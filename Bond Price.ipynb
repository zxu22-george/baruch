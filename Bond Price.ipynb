{
 "cells": [
  {
   "cell_type": "code",
   "execution_count": 2,
   "id": "20de6ff2",
   "metadata": {},
   "outputs": [
    {
     "data": {
      "text/plain": [
       "102.07845573643802"
      ]
     },
     "execution_count": 2,
     "metadata": {},
     "output_type": "execute_result"
    }
   ],
   "source": [
    "import numpy as np\n",
    "import math\n",
    "yi = 0.04255603018307094\n",
    "n = 5\n",
    "dates = [4/12, 10/12, 16/12, 22/12, 28/12]\n",
    "cashflows = [2, 2, 2, 2, 102]\n",
    "def r_zero(t):\n",
    "    return 0.015 + (1 + 2* (t**2)) / (100 + 100 * (t**2))\n",
    "\n",
    "def discountfactors(n, t_cf, v_cf, r_zero):\n",
    "    discount = [0]*n\n",
    "    for i in range (0, n):\n",
    "        discount[i] = np.exp(-t_cf[i] * r_zero(t_cf[i]))\n",
    "    return discount\n",
    " \n",
    "def bond_price(n, t_cf, v_cf, r_zero):\n",
    "    B = 0 #bond price\n",
    "    disc = [0]*n\n",
    "    for i in range (0, n):\n",
    "        disc[i] = np.exp(-t_cf[i] * r_zero(t_cf[i]))\n",
    "        B = B + v_cf[i] * disc[i]\n",
    "    return B\n",
    "\n",
    "def bond_price_withy(n, t_cf, v_cf, y):\n",
    "    B = 0 #bond price\n",
    "    disc = [0]*n\n",
    "    for i in range (0, n):\n",
    "        disc[i] = np.exp(-t_cf[i] * y)\n",
    "        B = B + v_cf[i] * disc[i]\n",
    "    return B\n",
    "\n",
    "price = bond_price(n, dates, cashflows, r_zero)\n",
    "price"
   ]
  },
  {
   "cell_type": "code",
   "execution_count": 8,
   "id": "93c48513",
   "metadata": {},
   "outputs": [
    {
     "data": {
      "text/plain": [
       "[0.9913707806297248,\n",
       " 0.9760430022280248,\n",
       " 0.9589976384002267,\n",
       " 0.9417995254855543,\n",
       " 0.9249219004210878]"
      ]
     },
     "execution_count": 8,
     "metadata": {},
     "output_type": "execute_result"
    }
   ],
   "source": [
    "discs = discountfactors(n, dates, cashflows, r_zero)\n",
    "discs"
   ]
  },
  {
   "cell_type": "code",
   "execution_count": 3,
   "id": "f38bc8c5",
   "metadata": {
    "scrolled": true
   },
   "outputs": [
    {
     "data": {
      "text/plain": [
       "1.889909571506576"
      ]
     },
     "execution_count": 3,
     "metadata": {},
     "output_type": "execute_result"
    }
   ],
   "source": [
    "\n",
    "\n",
    "def D_mod(n, t_cf, v_cf, y):\n",
    "    for i in range (0, n):\n",
    "        res = 0\n",
    "        mod = t_cf[i]*v_cf[i]*np.exp(-y * t_cf[i]) / price\n",
    "        res = res + mod\n",
    "    return res\n",
    "\n",
    "Dmod = D_mod(n, dates, cashflows, yi)\n",
    "Dmod"
   ]
  },
  {
   "cell_type": "code",
   "execution_count": 4,
   "id": "2e4335c0",
   "metadata": {},
   "outputs": [
    {
     "data": {
      "text/plain": [
       "4.409789000182012"
      ]
     },
     "execution_count": 4,
     "metadata": {},
     "output_type": "execute_result"
    }
   ],
   "source": [
    "def Convexity(n, t_cf, v_cf, y):\n",
    "    for i in range (0, n):\n",
    "        res = 0\n",
    "        conv = (t_cf[i]*t_cf[i])*v_cf[i]*np.exp(-y * t_cf[i]) / price\n",
    "        res = res + conv\n",
    "    return res\n",
    "\n",
    "Conv = Convexity(n, dates, cashflows, yi)\n",
    "Conv"
   ]
  },
  {
   "cell_type": "code",
   "execution_count": 5,
   "id": "528ef077",
   "metadata": {},
   "outputs": [
    {
     "data": {
      "text/plain": [
       "192.91905054090455"
      ]
     },
     "execution_count": 5,
     "metadata": {},
     "output_type": "execute_result"
    }
   ],
   "source": [
    "dollar_D = Dmod * price\n",
    "dollar_D"
   ]
  },
  {
   "cell_type": "code",
   "execution_count": 6,
   "id": "c0f12e6a",
   "metadata": {},
   "outputs": [
    {
     "data": {
      "text/plain": [
       "0.019291905054090456"
      ]
     },
     "execution_count": 6,
     "metadata": {},
     "output_type": "execute_result"
    }
   ],
   "source": [
    "DV01 = dollar_D / 10000\n",
    "DV01"
   ]
  },
  {
   "cell_type": "code",
   "execution_count": 7,
   "id": "9c2be276",
   "metadata": {},
   "outputs": [
    {
     "data": {
      "text/plain": [
       "450.14445126211075"
      ]
     },
     "execution_count": 7,
     "metadata": {},
     "output_type": "execute_result"
    }
   ],
   "source": [
    "dollar_Convexity = Conv * price\n",
    "dollar_Convexity"
   ]
  },
  {
   "cell_type": "code",
   "execution_count": 9,
   "id": "815480d4",
   "metadata": {
    "scrolled": true
   },
   "outputs": [],
   "source": [
    "def BnewD(B, D, deltay):\n",
    "    return B * (1 - D * deltay)\n",
    "\n",
    "def BnewDC(B, D, deltay, C):\n",
    "    return B * (1 - D * deltay + 0.5 * C * (deltay**2))\n",
    "\n",
    "\n",
    "deltas = [0.0010, 0.0050, 0.01, 0.02, 0.04]\n",
    "newDs = [0]*5\n",
    "newDCs = [0]*5\n",
    "for i in range(0, 5):\n",
    "    newDs[i] = BnewD(price, Dmod, deltas[i])\n",
    "    \n",
    "    \n",
    "#another approach   \n",
    "for i in range(0, 5):\n",
    "    newDCs[i] = BnewDC(price, Dmod, deltas[i], Conv) \n",
    "    \n",
    "real_price = [0]*5\n",
    "for i in range(0, 5):\n",
    "    real_price[i] = (bond_price_withy(n, dates, cashflows, yi+deltas[i]))\n",
    "    \n",
    "    "
   ]
  },
  {
   "cell_type": "code",
   "execution_count": 10,
   "id": "dcc5b955",
   "metadata": {},
   "outputs": [
    {
     "data": {
      "text/plain": [
       "0.00012616627540767912"
      ]
     },
     "metadata": {},
     "output_type": "display_data"
    },
    {
     "data": {
      "text/plain": [
       "0.0005990134548211533"
      ]
     },
     "metadata": {},
     "output_type": "display_data"
    },
    {
     "data": {
      "text/plain": [
       "0.0011175802963500395"
      ]
     },
     "metadata": {},
     "output_type": "display_data"
    },
    {
     "data": {
      "text/plain": [
       "0.0019072885093665978"
      ]
     },
     "metadata": {},
     "output_type": "display_data"
    },
    {
     "data": {
      "text/plain": [
       "0.0024533027633223234"
      ]
     },
     "metadata": {},
     "output_type": "display_data"
    }
   ],
   "source": [
    "for i in range(0, 5):\n",
    "    display(np.abs(newDs[i] - real_price[i]) / real_price[i])"
   ]
  },
  {
   "cell_type": "code",
   "execution_count": 11,
   "id": "c53b92ab",
   "metadata": {},
   "outputs": [
    {
     "data": {
      "text/plain": [
       "0.00012790815039456075"
      ]
     },
     "metadata": {},
     "output_type": "display_data"
    },
    {
     "data": {
      "text/plain": [
       "0.0006428865652465946"
      ]
     },
     "metadata": {},
     "output_type": "display_data"
    },
    {
     "data": {
      "text/plain": [
       "0.0012947170658479592"
      ]
     },
     "metadata": {},
     "output_type": "display_data"
    },
    {
     "data": {
      "text/plain": [
       "0.0026291673622738532"
      ]
     },
     "metadata": {},
     "output_type": "display_data"
    },
    {
     "data": {
      "text/plain": [
       "0.0054503615361830345"
      ]
     },
     "metadata": {},
     "output_type": "display_data"
    }
   ],
   "source": [
    "for i in range(0, 5):\n",
    "    display(np.abs(newDCs[i] - real_price[i]) / real_price[i])"
   ]
  },
  {
   "cell_type": "code",
   "execution_count": null,
   "id": "ef63abe6",
   "metadata": {},
   "outputs": [],
   "source": []
  }
 ],
 "metadata": {
  "kernelspec": {
   "display_name": "Python 3",
   "language": "python",
   "name": "python3"
  },
  "language_info": {
   "codemirror_mode": {
    "name": "ipython",
    "version": 3
   },
   "file_extension": ".py",
   "mimetype": "text/x-python",
   "name": "python",
   "nbconvert_exporter": "python",
   "pygments_lexer": "ipython3",
   "version": "3.8.8"
  }
 },
 "nbformat": 4,
 "nbformat_minor": 5
}
