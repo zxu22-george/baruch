{
 "cells": [
  {
   "cell_type": "code",
   "execution_count": 2,
   "id": "5183811f",
   "metadata": {},
   "outputs": [
    {
     "data": {
      "text/plain": [
       "'iteration1'"
      ]
     },
     "metadata": {},
     "output_type": "display_data"
    },
    {
     "data": {
      "text/plain": [
       "'approx: 0.31085479345597133'"
      ]
     },
     "metadata": {},
     "output_type": "display_data"
    },
    {
     "data": {
      "text/plain": [
       "'iteration2'"
      ]
     },
     "metadata": {},
     "output_type": "display_data"
    },
    {
     "data": {
      "text/plain": [
       "'approx: 0.3033172517067202'"
      ]
     },
     "metadata": {},
     "output_type": "display_data"
    },
    {
     "data": {
      "text/plain": [
       "'iteration3'"
      ]
     },
     "metadata": {},
     "output_type": "display_data"
    },
    {
     "data": {
      "text/plain": [
       "'approx: 0.3033023940714928'"
      ]
     },
     "metadata": {},
     "output_type": "display_data"
    },
    {
     "data": {
      "text/plain": [
       "'iteration4'"
      ]
     },
     "metadata": {},
     "output_type": "display_data"
    },
    {
     "data": {
      "text/plain": [
       "'approx: 0.303302394010592'"
      ]
     },
     "metadata": {},
     "output_type": "display_data"
    },
    {
     "data": {
      "text/plain": [
       "0.303302394010592"
      ]
     },
     "execution_count": 2,
     "metadata": {},
     "output_type": "execute_result"
    }
   ],
   "source": [
    "import numpy as np\n",
    "import math\n",
    "from scipy.misc import derivative\n",
    "from scipy.stats import norm \n",
    "e = math.e\n",
    "pi = np.pi\n",
    "x0 = 0.5   #initial guess\n",
    "\n",
    "\n",
    "def function(x):\n",
    "    return x**4 - 5*(x**2) + 4 - (1 / (1 + np.exp(x**3)))      #function to find root\n",
    "\n",
    "tol_approx = 10**(-9)\n",
    "tol_consec = 10**(-6)\n",
    "\n",
    "def BlackScholesCall(t, S, K, T, sigma, r, q):\n",
    "    d1 = (np.log(S/K) + (r - q + (sigma**2)/2) * (T - t)) / (sigma * np.sqrt(T - t))\n",
    "    d2 = d1 - sigma * np.sqrt(T - t)\n",
    "    return S*np.exp(-q * (T - t))*norm.cdf(d1) - K * np.exp(-r * (T - t))*norm.cdf(d2)\n",
    "\n",
    "\n",
    "def BlackScholesPut(t, S, K, T, sigma, r, q):\n",
    "    d1 = (np.log(S/K) + (r - q + (sigma**2)/2) * (T - t)) / (sigma * np.sqrt(T - t))\n",
    "    d2 = d1 - sigma * np.sqrt(T - t)\n",
    "    return K * np.exp(-r * (T - t))*norm.cdf(-d2) - S*np.exp(-q * (T - t))*norm.cdf(-d1) \n",
    "\n",
    "def Vega(t, S, K, T, sigma, r, q):\n",
    "    d1 = (np.log(S/K) + (r - q + (sigma**2)/2) * (T - t)) / (sigma * np.sqrt(T - t))\n",
    "    return S * norm.pdf(d1) * np.sqrt(T - t) * np.exp(-q * (T - t))\n",
    "\n",
    "def NewtonImpVol(guess, C_market, S, K, T, q, r, tol):\n",
    "    X_new = guess\n",
    "    X_old = guess - 1\n",
    "    for i in range(100):\n",
    "        X_old = X_new\n",
    "        X_new = X_new - ((BlackScholesCall(0, S, K, T, X_new, r, q) - C_market) / Vega(0, S, K, T, X_new, r, q))\n",
    "        display(\"iteration\" + str(i+1))\n",
    "        display(\"approx: \" + str(X_new))\n",
    "        if (np.abs(X_new - X_old) < tol):\n",
    "            break\n",
    "    return X_new\n",
    "        \n",
    "# tol_approx = largest admissible value of |f(x)| when solution is found \n",
    "# tol_consec = largest admissible distance between two consecutive approximations when solution is found \n",
    "\n",
    "imp = NewtonImpVol(0.2, 8, 50, 45, 9/12, 0.01, 0.02, 10 ** (-8))\n",
    "imp"
   ]
  },
  {
   "cell_type": "code",
   "execution_count": 20,
   "id": "87338ede",
   "metadata": {},
   "outputs": [
    {
     "data": {
      "text/plain": [
       "3.4067985909985903"
      ]
     },
     "execution_count": 20,
     "metadata": {},
     "output_type": "execute_result"
    }
   ],
   "source": [
    "Vega(0, 25, 20, 1, 0.2, 0.05, 0)"
   ]
  },
  {
   "cell_type": "code",
   "execution_count": 6,
   "id": "1d10276e",
   "metadata": {},
   "outputs": [
    {
     "data": {
      "text/plain": [
       "0.25671024657084796"
      ]
     },
     "execution_count": 6,
     "metadata": {},
     "output_type": "execute_result"
    }
   ],
   "source": [
    "def impapprox(C, S, T, r, q):\n",
    "    return (np.sqrt(2*pi/T)/S) * (C - 0.5*(r - q)*T*S) / (1 - 0.5*(r + q)*T)\n",
    "\n",
    "approx = impapprox(2.75, 40, 5/12, 0.025, 0.01)\n",
    "approx"
   ]
  },
  {
   "cell_type": "code",
   "execution_count": 7,
   "id": "b9a58803",
   "metadata": {},
   "outputs": [
    {
     "data": {
      "text/plain": [
       "0.0007509669584860464"
      ]
     },
     "execution_count": 7,
     "metadata": {},
     "output_type": "execute_result"
    }
   ],
   "source": [
    "relative_error = np.abs(approx - imp) / imp\n",
    "relative_error"
   ]
  },
  {
   "cell_type": "code",
   "execution_count": null,
   "id": "808229e4",
   "metadata": {},
   "outputs": [],
   "source": []
  }
 ],
 "metadata": {
  "kernelspec": {
   "display_name": "Python 3",
   "language": "python",
   "name": "python3"
  },
  "language_info": {
   "codemirror_mode": {
    "name": "ipython",
    "version": 3
   },
   "file_extension": ".py",
   "mimetype": "text/x-python",
   "name": "python",
   "nbconvert_exporter": "python",
   "pygments_lexer": "ipython3",
   "version": "3.8.8"
  }
 },
 "nbformat": 4,
 "nbformat_minor": 5
}
