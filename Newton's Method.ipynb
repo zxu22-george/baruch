{
 "cells": [
  {
   "cell_type": "code",
   "execution_count": 1,
   "id": "bb3a7791",
   "metadata": {
    "scrolled": true
   },
   "outputs": [
    {
     "data": {
      "text/plain": [
       "'iteration1: 0.03859532883858301'"
      ]
     },
     "metadata": {},
     "output_type": "display_data"
    },
    {
     "data": {
      "text/plain": [
       "'iteration2: 0.04253806071812577'"
      ]
     },
     "metadata": {},
     "output_type": "display_data"
    },
    {
     "data": {
      "text/plain": [
       "'iteration3: 0.04255602981209063'"
      ]
     },
     "metadata": {},
     "output_type": "display_data"
    },
    {
     "data": {
      "text/plain": [
       "'iteration4: 0.04255603018307094'"
      ]
     },
     "metadata": {},
     "output_type": "display_data"
    },
    {
     "data": {
      "text/plain": [
       "0.04255603018307094"
      ]
     },
     "execution_count": 1,
     "metadata": {},
     "output_type": "execute_result"
    }
   ],
   "source": [
    "import numpy as np\n",
    "import math\n",
    "from scipy.misc import derivative\n",
    "from scipy.stats import norm\n",
    "e = math.e\n",
    "x0 = 0.1   #initial guess\n",
    "\n",
    "\n",
    "def function(x):\n",
    "    return 2*np.exp(-4/12*x) + 2*np.exp(-10/12*x) + 2*np.exp(-16/12*x) + 2*np.exp(-22/12*x) + 102*np.exp(-28/12*x) - 100     #function to find root\n",
    "\n",
    "tol_approx = 10**(-6)\n",
    "tol_consec = 10**(-6)\n",
    "\n",
    "\n",
    "def Newton(guess, func, tol1, tol2):\n",
    "    X_new = guess\n",
    "    X_old = guess - 1\n",
    "    for i in range(100):\n",
    "        X_old = X_new\n",
    "        X_new = X_old - (func(X_old) / derivative(func, X_old, dx = 1e-6))\n",
    "        display(\"iteration\" + str(i + 1) + \": \" + str(X_new))\n",
    "        if ((np.abs(X_new) < tol1) or (np.abs(X_new - X_old) < tol2)):\n",
    "                break\n",
    "    return X_new\n",
    "        \n",
    "y = Newton(x0, function, tol_approx, tol_consec)\n",
    "y\n",
    "# tol_approx = largest admissible value of |f(x)| when solution is found \n",
    "# tol_consec = largest admissible distance between two consecutive approximations when solution is found "
   ]
  },
  {
   "cell_type": "code",
   "execution_count": 2,
   "id": "463ef6c7",
   "metadata": {},
   "outputs": [
    {
     "data": {
      "text/plain": [
       "2.803996234489742"
      ]
     },
     "execution_count": 2,
     "metadata": {},
     "output_type": "execute_result"
    }
   ],
   "source": [
    "D_mod = (0.5*2*np.exp(-0.5*y) + 2*np.exp(-1*y) + 1.5*2*np.exp(-1.5*y) + 2*2*np.exp(-2*y) + 2.5*2*np.exp(-2.5*y) + 3*102*np.exp(-3*y))/101\n",
    "D_mod"
   ]
  },
  {
   "cell_type": "code",
   "execution_count": 3,
   "id": "306e733f",
   "metadata": {},
   "outputs": [
    {
     "data": {
      "text/plain": [
       "8.249377226564395"
      ]
     },
     "execution_count": 3,
     "metadata": {},
     "output_type": "execute_result"
    }
   ],
   "source": [
    "Convexity = (0.5*0.5*2*np.exp(-0.5*y) + 2*np.exp(-1*y) + 1.5*1.5*2*np.exp(-1.5*y) + 2*2*2*np.exp(-2*y) + 2.5*2.5*2*np.exp(-2.5*y) + 3*3*102*np.exp(-3*y))/101\n",
    "Convexity"
   ]
  },
  {
   "cell_type": "code",
   "execution_count": 4,
   "id": "1bdb36a7",
   "metadata": {},
   "outputs": [
    {
     "ename": "SyntaxError",
     "evalue": "invalid syntax (<ipython-input-4-9f93af3ac1cb>, line 13)",
     "output_type": "error",
     "traceback": [
      "\u001b[1;36m  File \u001b[1;32m\"<ipython-input-4-9f93af3ac1cb>\"\u001b[1;36m, line \u001b[1;32m13\u001b[0m\n\u001b[1;33m    k0 =\u001b[0m\n\u001b[1;37m        ^\u001b[0m\n\u001b[1;31mSyntaxError\u001b[0m\u001b[1;31m:\u001b[0m invalid syntax\n"
     ]
    }
   ],
   "source": []
  },
  {
   "cell_type": "code",
   "execution_count": 6,
   "id": "7262eb5d",
   "metadata": {},
   "outputs": [
    {
     "data": {
      "text/plain": [
       "'iteration1: 56.555633679764455'"
      ]
     },
     "metadata": {},
     "output_type": "display_data"
    },
    {
     "data": {
      "text/plain": [
       "'iteration2: 60.128386412400445'"
      ]
     },
     "metadata": {},
     "output_type": "display_data"
    },
    {
     "data": {
      "text/plain": [
       "'iteration3: 61.244916209867284'"
      ]
     },
     "metadata": {},
     "output_type": "display_data"
    },
    {
     "data": {
      "text/plain": [
       "'iteration4: 61.33846362605702'"
      ]
     },
     "metadata": {},
     "output_type": "display_data"
    },
    {
     "data": {
      "text/plain": [
       "'iteration5: 61.33906814111411'"
      ]
     },
     "metadata": {},
     "output_type": "display_data"
    },
    {
     "data": {
      "text/plain": [
       "'iteration6: 61.339068166143036'"
      ]
     },
     "metadata": {},
     "output_type": "display_data"
    }
   ],
   "source": [
    "\n",
    "def BlackScholesPut(t, S, K, T, sigma, r, q):\n",
    "    d1 = (np.log(S/K) + (r - q + (sigma**2)/2) * (T - t)) / (sigma * np.sqrt(T - t))\n",
    "    d2 = d1 - sigma * np.sqrt(T - t)\n",
    "    return K * np.exp(-r * (T - t))*norm.cdf(-d2) - S*np.exp(-q * (T - t))*norm.cdf(-d1)\n",
    "\n",
    "def zero_time_value(K):\n",
    "    return BlackScholesPut(0, 50, K, 1/2, 0.25, 0.03, 0.01) - K + 50\n",
    "\n",
    "zero_tv_put = Newton(50, zero_time_value, 10 ** (-6), 10 ** (-6))"
   ]
  },
  {
   "cell_type": "code",
   "execution_count": null,
   "id": "698ad980",
   "metadata": {},
   "outputs": [],
   "source": [
    "#hw5 Q4 \n",
    "from scipy.stats import norm\n",
    "def D1(S, T, K, sigma, r, q):\n",
    "    return np.log(S/K) + (r - q + (sigma**2)/2) * T / (sigma * np.sqrt(T))\n",
    "\n",
    "\n",
    "def strike (k):\n",
    "    d1 = D1(30, 3/12, k, 0.3, 0.025, 0.01)\n",
    "    q, T = 0.01, 3/12\n",
    "    return np.exp(-q * T)*norm.cdf(d1) - 0.5 \n",
    "Newton(10, strike, 10**(-6), 10**(-6))\n",
    "\n",
    "k0 =\n",
    "s0 = \n",
    "def put_theta(SK):\n",
    "        d1 = self._d1(S, K, T, r, sigma)\n",
    "        d2 = self._d2(S, K, T, r, sigma)\n",
    "        return - ((S * norm.pdf(d1) * sigma) / (2 * np.sqrt(T))) + r * K * np.exp(-r*T) * norm.cdf(-d2)"
   ]
  }
 ],
 "metadata": {
  "kernelspec": {
   "display_name": "Python 3",
   "language": "python",
   "name": "python3"
  },
  "language_info": {
   "codemirror_mode": {
    "name": "ipython",
    "version": 3
   },
   "file_extension": ".py",
   "mimetype": "text/x-python",
   "name": "python",
   "nbconvert_exporter": "python",
   "pygments_lexer": "ipython3",
   "version": "3.8.8"
  }
 },
 "nbformat": 4,
 "nbformat_minor": 5
}
