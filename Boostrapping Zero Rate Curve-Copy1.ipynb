{
 "cells": [
  {
   "cell_type": "code",
   "execution_count": 3,
   "id": "ae853f24",
   "metadata": {},
   "outputs": [
    {
     "data": {
      "text/plain": [
       "'iteration1approx: 0.01673098138204656'"
      ]
     },
     "metadata": {},
     "output_type": "display_data"
    },
    {
     "data": {
      "text/plain": [
       "'iteration2approx: 0.017270773505478537'"
      ]
     },
     "metadata": {},
     "output_type": "display_data"
    },
    {
     "data": {
      "text/plain": [
       "'iteration3approx: 0.01727091883960598'"
      ]
     },
     "metadata": {},
     "output_type": "display_data"
    },
    {
     "data": {
      "text/plain": [
       "0.01727091883960598"
      ]
     },
     "execution_count": 3,
     "metadata": {},
     "output_type": "execute_result"
    }
   ],
   "source": [
    "import numpy as np\n",
    "import math\n",
    "from scipy.misc import derivative \n",
    "e = math.e\n",
    "#x0 =    #initial guess (zero rate at someone time T)\n",
    "\n",
    "\n",
    "def function(x):\n",
    "    return x**4 - 5*(x**2) + 4 - (1 / (1 + np.exp(x**3)))      #function to find root\n",
    "\n",
    "tol_approx = 10**(-9)\n",
    "tol_consec = 10**(-6)\n",
    "\n",
    "\n",
    "def Newton(guess, fx, tol1, tol2):\n",
    "    X_new = guess\n",
    "    X_old = guess - 1\n",
    "    for i in range(100):\n",
    "        X_old = X_new\n",
    "        X_new = X_old - (fx(X_old) / derivative(fx, X_old, dx = 1e-6))\n",
    "        display(\"iteration\" + str(i + 1) + \"approx: \" + str(X_new))\n",
    "        if ((np.abs(X_new) < tol1) or (np.abs(X_new - X_old) < tol2)):\n",
    "            break\n",
    "    return X_new\n",
    "        \n",
    "# tol_approx = largest admissible value of |f(x)| when solution is found \n",
    "# tol_consec = largest admissible distance between two consecutive approximations when solution is found \n",
    "\n",
    "\n",
    "'''\n",
    "First step: r(0.5)\n",
    "'''\n",
    "\n",
    "def rate1(r):\n",
    "    return 1.5 * (np.exp(-0.5* (0.5 * 0.015 + 0.5 * r))) + 101.5 * (np.exp(-r))  - 101.25\n",
    "\n",
    "r1 = Newton(0.05, rate1, 10**(-6), 10**(-6))\n",
    "r1"
   ]
  },
  {
   "cell_type": "code",
   "execution_count": 5,
   "id": "f12300c0",
   "metadata": {},
   "outputs": [
    {
     "data": {
      "text/plain": [
       "'iteration1approx: 0.01959821857625812'"
      ]
     },
     "metadata": {},
     "output_type": "display_data"
    },
    {
     "data": {
      "text/plain": [
       "'iteration2approx: 0.02027070131480146'"
      ]
     },
     "metadata": {},
     "output_type": "display_data"
    },
    {
     "data": {
      "text/plain": [
       "'iteration3approx: 0.02027104071776741'"
      ]
     },
     "metadata": {},
     "output_type": "display_data"
    },
    {
     "data": {
      "text/plain": [
       "0.02027104071776741"
      ]
     },
     "execution_count": 5,
     "metadata": {},
     "output_type": "execute_result"
    }
   ],
   "source": [
    "'''\n",
    "Second step: r(1.5); already obtained r1\n",
    "'''\n",
    "\n",
    "def rate105(r):\n",
    "    return 1 * (np.exp(-0.5 * (0.5 * 0.015 + 0.5 * r1))) + 1 * np.exp(-r1) + 101 * (np.exp(-1.5 * r))- 99.95\n",
    "\n",
    "r105 = Newton(0.05, rate105, 10**(-6), 10**(-6))\n",
    "r105"
   ]
  },
  {
   "cell_type": "code",
   "execution_count": 6,
   "id": "40df65fb",
   "metadata": {},
   "outputs": [
    {
     "data": {
      "text/plain": [
       "'iteration1approx: 0.012593222289208755'"
      ]
     },
     "metadata": {},
     "output_type": "display_data"
    },
    {
     "data": {
      "text/plain": [
       "'iteration2approx: 0.014522539278162319'"
      ]
     },
     "metadata": {},
     "output_type": "display_data"
    },
    {
     "data": {
      "text/plain": [
       "'iteration3approx: 0.014528087621757002'"
      ]
     },
     "metadata": {},
     "output_type": "display_data"
    },
    {
     "data": {
      "text/plain": [
       "'iteration4approx: 0.014528087667467849'"
      ]
     },
     "metadata": {},
     "output_type": "display_data"
    },
    {
     "data": {
      "text/plain": [
       "0.014528087667467849"
      ]
     },
     "execution_count": 6,
     "metadata": {},
     "output_type": "execute_result"
    }
   ],
   "source": [
    "'''\n",
    "Third Step: r(3); already obtained r1 and r1.5\n",
    "'''\n",
    "\n",
    "def rate3(r):\n",
    "    return 2.5 * (np.exp(-0.5 * (0.5 * 0.015 + 0.5 * r1))) + 2.5 * np.exp(-r1) + 2.5 * np.exp(-1.5* r105) + 2.5 * (np.exp(-2 * (2/3 * r105 + 1/3 * r))) \\\n",
    "+ 2.5 * (np.exp(-2.5 * (1/3 * r105 + 2/3 * r))) + 102.5 * (np.exp(-3 * r)) - 110.30\n",
    "\n",
    "r3 = Newton(0.05, rate3, 10**(-6), 10**(-6))\n",
    "r3"
   ]
  },
  {
   "cell_type": "code",
   "execution_count": 8,
   "id": "664d7c4c",
   "metadata": {},
   "outputs": [
    {
     "data": {
      "text/plain": [
       "'iteration1approx: 0.05084518342508434'"
      ]
     },
     "metadata": {},
     "output_type": "display_data"
    },
    {
     "data": {
      "text/plain": [
       "'iteration2approx: 0.050846938394661985'"
      ]
     },
     "metadata": {},
     "output_type": "display_data"
    },
    {
     "data": {
      "text/plain": [
       "'iteration3approx: 0.050846938402207636'"
      ]
     },
     "metadata": {},
     "output_type": "display_data"
    },
    {
     "data": {
      "text/plain": [
       "0.050846938402207636"
      ]
     },
     "execution_count": 8,
     "metadata": {},
     "output_type": "execute_result"
    }
   ],
   "source": [
    "'''\n",
    "Final Step: r(5); already obtained r05, r1, and r2\n",
    "'''\n",
    "\n",
    "def rate5(r):\n",
    "    return 3 * (np.exp(-0.5 * r05)) + 3 * np.exp(-r1) + 3 * np.exp(-1.5*(0.75 * r1 + 0.25 * r3)) + 3 * (np.exp(-2 * (0.5 * r1 + 0.5 * r3))) +\\\n",
    "            3 * (np.exp(-2.5 * (0.25 * r1 + 0.75 * r3))) + 3 * (np.exp(-3 * r3)) + 3 * (np.exp(-3.5 * (0.25 * r3 + 0.75 * r))) + \\\n",
    "            3 * (np.exp(-4 * (0.5 * r3 + 0.5 * r))) + 3 * (np.exp(-4.5 * (0.75 * r3 + 0.25 * r))) + 103 * (np.exp(-5*r)) - 104\n",
    "\n",
    "r5 = Newton(0.05, rate5, tol_approx, tol_consec)\n",
    "r5"
   ]
  },
  {
   "cell_type": "code",
   "execution_count": null,
   "id": "e14db59c",
   "metadata": {},
   "outputs": [],
   "source": []
  }
 ],
 "metadata": {
  "kernelspec": {
   "display_name": "Python 3",
   "language": "python",
   "name": "python3"
  },
  "language_info": {
   "codemirror_mode": {
    "name": "ipython",
    "version": 3
   },
   "file_extension": ".py",
   "mimetype": "text/x-python",
   "name": "python",
   "nbconvert_exporter": "python",
   "pygments_lexer": "ipython3",
   "version": "3.8.8"
  }
 },
 "nbformat": 4,
 "nbformat_minor": 5
}
